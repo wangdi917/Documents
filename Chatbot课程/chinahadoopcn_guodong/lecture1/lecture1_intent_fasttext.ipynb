{
 "cells": [
  {
   "cell_type": "markdown",
   "metadata": {},
   "source": [
    "## 实验演示：使用fasttext做意图分类xiam\n",
    "### 意图（intent）是服务类聊天机器人，搜索引擎领域的重要手段，例如下图"
   ]
  },
  {
   "cell_type": "markdown",
   "metadata": {},
   "source": [
    "\n",
    "![alt text](figure/Dialogue-Structure-NLP.png)\n",
    "\n",
    "图片来自[网络](https://stanfy.com/blog/advanced-natural-language-processing-tools-for-bot-makers/)\n"
   ]
  },
  {
   "cell_type": "markdown",
   "metadata": {},
   "source": [
    "下面的数据样本来自github的rasa_nlu项目： `data/examples/wit/demo-flights.json`\n",
    "\n",
    "几个订机票的用户命令，看名字是facebook的wit.ai的数据格式\n",
    "\n",
    "\n",
    "```json\n",
    "{\n",
    "  \"data\" : [\n",
    "    {\n",
    "      \"text\" : \"i want to go from berlin to tokyo tomorrow\",\n",
    "      \"entities\" : [\n",
    "        {\n",
    "          \"entity\" : \"location\",\n",
    "          \"value\" : \"\\\"berlin\\\"\",\n",
    "          \"role\" : \"from\",\n",
    "          \"start\" : 18,\n",
    "          \"end\" : 24\n",
    "        },\n",
    "        {\n",
    "          \"entity\" : \"intent\",\n",
    "          \"value\" : \"\\\"flight_booking\\\"\",\n",
    "          \"start\" : 0,\n",
    "          \"end\" : 42\n",
    "        },\n",
    "        {\n",
    "          \"entity\" : \"location\",\n",
    "          \"value\" : \"\\\"tokyo\\\"\",\n",
    "          \"role\" : \"to\",\n",
    "          \"start\" : 28,\n",
    "          \"end\" : 33\n",
    "        },\n",
    "        {\n",
    "          \"entity\" : \"datetime\",\n",
    "          \"value\" : \"\\\"2016-05-29T00:00:00.000-07:00\\\"\",\n",
    "          \"start\" : 34,\n",
    "          \"end\" : 42\n",
    "        }\n",
    "      ]\n",
    "    },\n",
    "    {\n",
    "      \"text\" : \"i'm looking for a flight from london to amsterdam next monday\",\n",
    "      \"entities\" : [\n",
    "        {\n",
    "          \"entity\" : \"location\",\n",
    "          \"value\" : \"\\\"london\\\"\",\n",
    "          \"role\" : \"from\",\n",
    "          \"start\" : 30,\n",
    "          \"end\" : 36\n",
    "        },\n",
    "        {\n",
    "          \"entity\" : \"location\",\n",
    "          \"value\" : \"\\\"amsterdam\\\"\",\n",
    "          \"role\" : \"to\",\n",
    "          \"start\" : 40,\n",
    "          \"end\" : 49\n",
    "        },\n",
    "        {\n",
    "          \"entity\" : \"datetime\",\n",
    "          \"value\" : \"\\\"2016-05-30T00:00:00.000-07:00\\\"\",\n",
    "          \"start\" : 50,\n",
    "          \"end\" : 61\n",
    "        }\n",
    "      ]\n",
    "    },\n",
    "    {\n",
    "      \"text\" : \"i want to fly to berlin\",\n",
    "      \"entities\" : [\n",
    "        {\n",
    "          \"entity\" : \"location\",\n",
    "          \"value\" : \"\\\"berlin\\\"\",\n",
    "          \"role\" : \"from\",\n",
    "          \"start\" : 17,\n",
    "          \"end\" : 23\n",
    "        }\n",
    "      ]\n",
    "    },\n",
    "    {\n",
    "      \"text\" : \"i want to fly from london\",\n",
    "      \"entities\" : [\n",
    "        {\n",
    "          \"entity\" : \"location\",\n",
    "          \"value\" : \"\\\"london\\\"\",\n",
    "          \"role\" : \"from\",\n",
    "          \"start\" : 19,\n",
    "          \"end\" : 25\n",
    "        }\n",
    "      ]\n",
    "    }\n",
    "  ]\n",
    "}\n",
    "```"
   ]
  },
  {
   "cell_type": "markdown",
   "metadata": {},
   "source": [
    "### 大规模 intent 分类数据是各个公司的重要资产，我没有大的intent分类数据，所以使用rasa_nlu的一个小的demo样本来做示例"
   ]
  },
  {
   "cell_type": "code",
   "execution_count": 1,
   "metadata": {
    "collapsed": false
   },
   "outputs": [],
   "source": [
    "import json\n",
    "import io\n",
    "\n",
    "# 数据来源：\n",
    "# 从github下载rasa_nlu项目的repo， 使用`rasa_nlu/test_models/test_model_mitie/training_data.json`\n",
    "\n",
    "# 1. 从json文件读入数据\n",
    "name = 'data/training_data.json'\n",
    "with io.open(name, encoding=\"utf-8-sig\") as f:\n",
    "    data = json.loads(f.read())"
   ]
  },
  {
   "cell_type": "code",
   "execution_count": 2,
   "metadata": {
    "collapsed": false
   },
   "outputs": [
    {
     "name": "stdout",
     "output_type": "stream",
     "text": [
      "所有的 intent:\n",
      "{'affirm', 'greet', 'restaurant_search', 'goodbye'}\n",
      "\n",
      "\n",
      "所有的 (intent, text) 样本:\n",
      "\taffirm : great\n",
      "\taffirm : great\n",
      "\taffirm : indeed\n",
      "\taffirm : indeed\n",
      "\taffirm : ok\n",
      "\taffirm : ok\n",
      "\taffirm : that's right\n",
      "\taffirm : that's right\n",
      "\taffirm : yeah\n",
      "\taffirm : yeah\n",
      "\taffirm : yep\n",
      "\taffirm : yep\n",
      "\taffirm : yes\n",
      "\taffirm : yes\n",
      "\tgoodbye : bye\n",
      "\tgoodbye : bye\n",
      "\tgoodbye : end\n",
      "\tgoodbye : end\n",
      "\tgoodbye : good bye\n",
      "\tgoodbye : good bye\n",
      "\tgoodbye : goodbye\n",
      "\tgoodbye : goodbye\n",
      "\tgoodbye : stop\n",
      "\tgoodbye : stop\n",
      "\tgreet : hello\n",
      "\tgreet : hello\n",
      "\tgreet : hey\n",
      "\tgreet : hey\n",
      "\tgreet : hey there\n",
      "\tgreet : hey there\n",
      "\tgreet : hi\n",
      "\tgreet : hi\n",
      "\tgreet : howdy\n",
      "\tgreet : howdy\n",
      "\trestaurant_search : anywhere in the west\n",
      "\trestaurant_search : anywhere in the west\n",
      "\trestaurant_search : central indian restaurant\n",
      "\trestaurant_search : central indian restaurant\n",
      "\trestaurant_search : i am looking for an indian spot\n",
      "\trestaurant_search : i am looking for an indian spot\n",
      "\trestaurant_search : i'm looking for a place in the north of town\n",
      "\trestaurant_search : i'm looking for a place in the north of town\n",
      "\trestaurant_search : i'm looking for a place to eat\n",
      "\trestaurant_search : i'm looking for a place to eat\n",
      "\trestaurant_search : search for restaurants\n",
      "\trestaurant_search : search for restaurants\n",
      "\trestaurant_search : show me a mexican place in the centre\n",
      "\trestaurant_search : show me a mexican place in the centre\n",
      "\trestaurant_search : show me chines restaurants\n",
      "\trestaurant_search : show me chinese restaurants\n",
      "\trestaurant_search : show me chinese restaurants\n"
     ]
    }
   ],
   "source": [
    "labels, texts = [], []\n",
    "\n",
    "# 2. 从json格式的数据提取intent和text\n",
    "for eg in data['rasa_nlu_data']['common_examples']:\n",
    "    texts.append(eg['text'])\n",
    "    labels.append('__label__'  + eg['intent'])\n",
    "\n",
    "# 3. 将数据分割成 training数据 和 heldout(又名validation)数据\n",
    "with open('data/intent_small_train.txt', 'w') as f_tr:\n",
    "    with open('data/intent_small_valid.txt', 'w') as f_val:\n",
    "        for i in range(len(labels)):\n",
    "            if i==0 or labels[i]!=labels[i-1]:\n",
    "                f_val.write(labels[i] + ' ' + texts[i]+'\\n')\n",
    "            else:\n",
    "                f_tr.write(labels[i] + ' ' + texts[i]+'\\n')\n",
    "\n",
    "# 4. 打印数据，直观了解\n",
    "\n",
    "print('所有的 intent:')\n",
    "print(set([x[9:] for x in labels]))\n",
    "print('\\n')\n",
    "\n",
    "print('所有的 (intent, text) 样本:')\n",
    "xs = sorted([(labels[i], texts[i]) for i in range(len(labels))])\n",
    "\n",
    "for i in range(len(labels)):\n",
    "    print('\\t%s : %s' % (xs[i][0][9:], xs[i][1]))"
   ]
  },
  {
   "cell_type": "markdown",
   "metadata": {},
   "source": [
    "### 上面好多样本是重复的，我们假装不是重复样本，强行练习一波cross-validation"
   ]
  },
  {
   "cell_type": "code",
   "execution_count": 9,
   "metadata": {
    "collapsed": false
   },
   "outputs": [],
   "source": [
    "# 使用fasttext训练分类器\n",
    "\n",
    "import fasttext"
   ]
  },
  {
   "cell_type": "code",
   "execution_count": 10,
   "metadata": {
    "collapsed": false
   },
   "outputs": [],
   "source": [
    "# fasttext用法的参考文献：https://pypi.python.org/pypi/fasttext\n",
    "\n",
    "# 我们尝试不同的learning_rate和feature_dimension\n",
    "lrs = [0.01, 0.05, 0.002]\n",
    "dims = [5, 10, 25, 50, 75, 100]\n",
    "\n",
    "best_tr, best_val = 0, 0\n",
    "for lr in lrs:\n",
    "    for dim in dims:\n",
    "        classifier = fasttext.supervised(input_file = 'data/intent_small_train.txt',\n",
    "                                         output = 'data/intent_model',\n",
    "                                         label_prefix = '__label__',\n",
    "                                         dim = dim,\n",
    "                                         lr = lr,\n",
    "                                         epoch = 50)\n",
    "        result_tr = classifier.test('data/intent_small_train.txt')\n",
    "        result_val = classifier.test('data/intent_small_test.txt')\n",
    "        \n",
    "        if result_tr.precision > best_tr:\n",
    "            best_tr = result_tr.precision\n",
    "            params_tr = (lr, dim, result_tr)\n",
    "            \n",
    "        if result_val.precision > best_val:\n",
    "            best_val = result_val.precision\n",
    "            params_val = (lr, dim, result_val)"
   ]
  },
  {
   "cell_type": "code",
   "execution_count": 5,
   "metadata": {
    "collapsed": false
   },
   "outputs": [
    {
     "name": "stdout",
     "output_type": "stream",
     "text": [
      "0.9459459459459459\n",
      "(0.05, 5, <fasttext.model.ClassifierTestResult object at 0x7f90c455ffd0>)\n"
     ]
    }
   ],
   "source": [
    "print(best_tr)\n",
    "print(params_tr)"
   ]
  },
  {
   "cell_type": "code",
   "execution_count": 6,
   "metadata": {
    "collapsed": false
   },
   "outputs": [
    {
     "name": "stdout",
     "output_type": "stream",
     "text": [
      "0.8571428571428571\n",
      "(0.05, 5, <fasttext.model.ClassifierTestResult object at 0x7f90bc1649e8>)\n"
     ]
    }
   ],
   "source": [
    "print(best_val)\n",
    "print(params_val)"
   ]
  },
  {
   "cell_type": "code",
   "execution_count": 7,
   "metadata": {
    "collapsed": true
   },
   "outputs": [],
   "source": [
    "classifier = fasttext.supervised(input_file = 'data/intent_small_train.txt',\n",
    "                                         output = 'data/intent_model',\n",
    "                                         label_prefix = '__label__',\n",
    "                                         dim = params_val[1],\n",
    "                                         lr = params_val[0],\n",
    "                                         epoch = 50)"
   ]
  },
  {
   "cell_type": "code",
   "execution_count": 8,
   "metadata": {
    "collapsed": false
   },
   "outputs": [
    {
     "name": "stdout",
     "output_type": "stream",
     "text": [
      "[['affirm'], ['greet'], ['goodbye'], ['restaurant_search']]\n"
     ]
    }
   ],
   "source": [
    "print(classifier.predict(['ok ', 'hello', 'bye bye', 'show me chinese restaurants'], k=1))"
   ]
  }
 ],
 "metadata": {
  "kernelspec": {
   "display_name": "Python 3",
   "language": "python",
   "name": "python3"
  },
  "language_info": {
   "codemirror_mode": {
    "name": "ipython",
    "version": 3
   },
   "file_extension": ".py",
   "mimetype": "text/x-python",
   "name": "python",
   "nbconvert_exporter": "python",
   "pygments_lexer": "ipython3",
   "version": "3.6.0"
  }
 },
 "nbformat": 4,
 "nbformat_minor": 2
}
